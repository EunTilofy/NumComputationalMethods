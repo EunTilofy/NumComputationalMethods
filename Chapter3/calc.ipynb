{
 "cells": [
  {
   "cell_type": "code",
   "execution_count": 2,
   "metadata": {},
   "outputs": [
    {
     "name": "stdout",
     "output_type": "stream",
     "text": [
      "[-1.   -0.75 -0.5  -0.25  0.    0.25  0.5   0.75  1.  ]\n",
      "[-0.2209  0.3295  0.8826  1.4392  2.0003  2.5645  3.1334  3.7061  4.2836]\n",
      "一次拟合多项式系数： [2.25164667 2.01314444]\n",
      "二次拟合多项式系数： [0.03130563 2.25164667 2.00010043]\n",
      "三次拟合多项式系数： [2.08484848e-03 3.13056277e-02 2.25010909e+00 2.00010043e+00]\n"
     ]
    }
   ],
   "source": [
    "import numpy as np\n",
    "\n",
    "# 生成一些示例数据\n",
    "x = np.linspace(-1.00, 1.00, 9)\n",
    "print(x) \n",
    "y = np.array([-0.2209, 0.3295, 0.8826, 1.4392, 2.0003, 2.5645, 3.1334, 3.7061, 4.2836])\n",
    "print(y)\n",
    "# 一次拟合\n",
    "coefficients_1 = np.polyfit(x, y, 1)\n",
    "print(\"一次拟合多项式系数：\", coefficients_1)\n",
    "\n",
    "# 二次拟合\n",
    "coefficients_2 = np.polyfit(x, y, 2)\n",
    "print(\"二次拟合多项式系数：\", coefficients_2)\n",
    "\n",
    "# 三次拟合\n",
    "coefficients_3 = np.polyfit(x, y, 3)\n",
    "print(\"三次拟合多项式系数：\", coefficients_3)\n"
   ]
  }
 ],
 "metadata": {
  "kernelspec": {
   "display_name": "Python 3",
   "language": "python",
   "name": "python3"
  },
  "language_info": {
   "codemirror_mode": {
    "name": "ipython",
    "version": 3
   },
   "file_extension": ".py",
   "mimetype": "text/x-python",
   "name": "python",
   "nbconvert_exporter": "python",
   "pygments_lexer": "ipython3",
   "version": "3.11.6"
  }
 },
 "nbformat": 4,
 "nbformat_minor": 2
}
