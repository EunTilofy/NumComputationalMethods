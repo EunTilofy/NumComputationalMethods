{
 "cells": [
  {
   "cell_type": "code",
   "execution_count": 4,
   "metadata": {},
   "outputs": [
    {
     "name": "stdout",
     "output_type": "stream",
     "text": [
      "使用梯形公式计算值: 0.111402354529548\n",
      "使用抛物线公式计算值: 0.11157181325263063\n",
      "真值: 0.11157177565710488\n",
      "使用梯形公式计算误差: 0.00016942112755688465\n",
      "使用抛物线公式计算误差: 3.759552574811309e-08\n"
     ]
    }
   ],
   "source": [
    "import math\n",
    "\n",
    "# 定义函数 f(x)\n",
    "def f(x):\n",
    "    return x / (4 + x**2)\n",
    "\n",
    "# 计算梯形公式的值\n",
    "def trapezoidal_rule():\n",
    "    a = 0\n",
    "    b = 1\n",
    "    n = 8\n",
    "    h = (b - a) / n\n",
    "    result = (f(a) + f(b)) / 2\n",
    "    for i in range(1, n):\n",
    "        result += f(a + i * h)\n",
    "    result *= h\n",
    "    return result\n",
    "\n",
    "# 计算抛物线公式的值\n",
    "def simpsons_rule():\n",
    "    a = 0\n",
    "    b = 1\n",
    "    n = 16\n",
    "    h = (b - a) / n\n",
    "    result = f(a) + f(b)\n",
    "    for i in range(1, n, 2):\n",
    "        result += 4 * f(a + i * h)\n",
    "    for i in range(2, n - 1, 2):\n",
    "        result += 2 * f(a + i * h)\n",
    "    result *= h / 3\n",
    "    return result\n",
    "\n",
    "# 计算真值\n",
    "true_value = 1/2 * math.log(5/4)\n",
    "\n",
    "# 计算误差\n",
    "trapezoidal_error = abs(true_value - trapezoidal_rule())\n",
    "simpsons_error = abs(true_value - simpsons_rule())\n",
    "\n",
    "print(\"使用梯形公式计算值:\", trapezoidal_rule())\n",
    "print(\"使用抛物线公式计算值:\", simpsons_rule())\n",
    "print(\"真值:\", true_value)\n",
    "print(\"使用梯形公式计算误差:\", trapezoidal_error)\n",
    "print(\"使用抛物线公式计算误差:\", simpsons_error)\n"
   ]
  },
  {
   "cell_type": "code",
   "execution_count": 8,
   "metadata": {},
   "outputs": [
    {
     "name": "stdout",
     "output_type": "stream",
     "text": [
      "17.375579645963338\n",
      "17.3342011001631\n",
      "0.8424418886754169\n",
      "0.8427011772004525\n",
      "1.548617790677832\n",
      "1.7034547032433185\n"
     ]
    }
   ],
   "source": [
    "import math as m\n",
    "def f1(x):\n",
    "    return 4*m.sqrt(4*x+5)\n",
    "def f2(x):\n",
    "    return m.exp(-1/4*(x+1)*(x+1))\n",
    "def f3(x):\n",
    "    return 1/2*(m.atan(1/2*(x+1)))/((1/2*(x+1))**(3/2))\n",
    "def n2(f):\n",
    "    x1 = 0.5773503\n",
    "    return f(x1)+f(-x1)\n",
    "def n4(f):\n",
    "    x1 = 0.8611363\n",
    "    x2 = 0.3399810\n",
    "    A1 = 0.3478548\n",
    "    A2 = 0.6521452\n",
    "    return A1*(f(x1)+f(-x1))+A2*(f(x2)+f(-x2))\n",
    "\n",
    "print(n2(f1))\n",
    "print(n4(f1))\n",
    "\n",
    "print(n2(f2) / m.sqrt(m.pi))\n",
    "print(n4(f2) / m.sqrt(m.pi))\n",
    "\n",
    "print(n2(f3))\n",
    "print(n4(f3))"
   ]
  }
 ],
 "metadata": {
  "kernelspec": {
   "display_name": "Python 3",
   "language": "python",
   "name": "python3"
  },
  "language_info": {
   "codemirror_mode": {
    "name": "ipython",
    "version": 3
   },
   "file_extension": ".py",
   "mimetype": "text/x-python",
   "name": "python",
   "nbconvert_exporter": "python",
   "pygments_lexer": "ipython3",
   "version": "3.10.13"
  }
 },
 "nbformat": 4,
 "nbformat_minor": 2
}
