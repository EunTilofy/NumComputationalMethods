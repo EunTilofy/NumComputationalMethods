{
 "cells": [
  {
   "cell_type": "code",
   "execution_count": 35,
   "metadata": {},
   "outputs": [
    {
     "name": "stdout",
     "output_type": "stream",
     "text": [
      "k =  46\n",
      "[1.19993889 1.39992001 1.59990113 0.79995056]\n"
     ]
    }
   ],
   "source": [
    "import numpy as np\n",
    "\n",
    "eps = 5e-5\n",
    "\n",
    "def iter(x0, T, c):\n",
    "    x1 = T @ x0 + c\n",
    "    k = 1\n",
    "    while np.linalg.norm(x0 - x1, ord=np.inf) > eps:\n",
    "        x0 = x1\n",
    "        x1 = T @ x0 + c \n",
    "        k = k + 1\n",
    "    print(\"k = \", k)\n",
    "    return x1\n",
    "\n",
    "Tj = - np.array([[0,-1/2,0,0],[-1/2,0,-1/2,0],[0,-1/2,0,-1/2],[0,0,-1/2,0]])\n",
    "c = np.array([1/2,0,1/2,0])\n",
    "x0 = np.array([0,0,0,0])\n",
    "c = c.transpose()\n",
    "x0 = x0.transpose()\n",
    "\n",
    "print(iter(x0, Tj, c))"
   ]
  },
  {
   "cell_type": "code",
   "execution_count": 41,
   "metadata": {},
   "outputs": [
    {
     "name": "stdout",
     "output_type": "stream",
     "text": [
      "T =  [[-0.26        0.63        0.          0.        ]\n",
      " [-0.1638      0.1369      0.63        0.        ]\n",
      " [-0.103194    0.086247    0.1369      0.63      ]\n",
      " [-0.06501222  0.05433561  0.086247    0.1369    ]]\n",
      "c =  [0.63       0.3969     0.880047   0.55442961]\n",
      "k =  11\n",
      "x =  [1.19998703 1.39998917 1.59999415 0.79999811]\n"
     ]
    }
   ],
   "source": [
    "#TSOR = (D − ωL)−1[ωU + (1 − ω)D],\n",
    "# c = ω(D − ωL)−1b\n",
    "U = -np.array([[0,-1,0,0],[0,0,-1,0],[0,0,0,-1],[0,0,0,0]])\n",
    "L = -np.array([[0,0,0,0],[-1,0,0,0],[0,-1,0,0],[0,0,-1,0]])\n",
    "D = np.array([[2,0,0,0],[0,2,0,0],[0,0,2,0],[0,0,0,2]])\n",
    "b = np.array([1,0,1,0])\n",
    "x0 = np.array([0,0,0,0])\n",
    "w = 1.26\n",
    "\n",
    "T = np.linalg.inv(D - w*L) @ (w * U + (1-w) * D)\n",
    "c = w * np.linalg.inv(D - w * L) @ b\n",
    "\n",
    "print (\"T = \", T)\n",
    "print (\"c = \", c)\n",
    "print(\"x = \", iter(x0, T, c))\n"
   ]
  },
  {
   "cell_type": "code",
   "execution_count": 36,
   "metadata": {},
   "outputs": [
    {
     "name": "stdout",
     "output_type": "stream",
     "text": [
      "T =  [[0.     0.5    0.     0.    ]\n",
      " [0.     0.25   0.5    0.    ]\n",
      " [0.     0.125  0.25   0.5   ]\n",
      " [0.     0.0625 0.125  0.25  ]]\n",
      "c =  [0.5    0.25   0.625  0.3125]\n",
      "k =  24\n",
      "x =  [1.19994696 1.39993057 1.59994383 0.79997191]\n"
     ]
    }
   ],
   "source": [
    "D_L = np.array([[2,0,0,0],[-1,2,0,0],[0,-1,2,0],[0,0,-1,2]])\n",
    "U = -np.array([[0,-1,0,0],[0,0,-1,0],[0,0,0,-1],[0,0,0,0]])\n",
    "T = np.linalg.inv(D_L) @ U\n",
    "print (\"T = \", T)\n",
    "c = np.linalg.inv(D_L) @ np.array([1,0,1,0])\n",
    "print (\"c = \", c)\n",
    "print(\"x = \", iter(x0, T, c))\n",
    "\n",
    "# (D-L)^(-1)U\n",
    "# c = (D-L)^(-1)b"
   ]
  },
  {
   "cell_type": "code",
   "execution_count": 43,
   "metadata": {},
   "outputs": [
    {
     "name": "stdout",
     "output_type": "stream",
     "text": [
      "1.2596161836824993\n"
     ]
    }
   ],
   "source": [
    "\n",
    "r = np.max(np.abs(np.linalg.eigvals(-Tj)))\n",
    "wopt = 2 / (1 + np.sqrt(1 - r**2))\n",
    "print(wopt)"
   ]
  },
  {
   "cell_type": "code",
   "execution_count": 51,
   "metadata": {},
   "outputs": [
    {
     "name": "stdout",
     "output_type": "stream",
     "text": [
      "rho(Tj(A)) =  3.759933925918774e-06 , rho(TGS(A)) =  2.0\n",
      "rho(Tj(B)) =  1.1180339887498942 , rho(TGS(B)) =  0.5\n",
      "rho(Tj(A)) =  0.6666666666666666 , rho(TGS(A)) =  0.9106836025229588\n"
     ]
    }
   ],
   "source": [
    "def getLDU(A, n):\n",
    "    L = np.zeros(np.shape(A))\n",
    "    D = np.zeros(np.shape(A))\n",
    "    U = np.zeros(np.shape(A))\n",
    "    \n",
    "    for i in range(0, n):\n",
    "        for j in range(0, n):\n",
    "            if(i < j):\n",
    "                U[i][j] = -A[i][j]\n",
    "            if(i > j):\n",
    "                L[i][j] = -A[i][j]\n",
    "            if(i == j):\n",
    "                D[i][j] = A[i][j]\n",
    "    return [L,D,U]\n",
    "\n",
    "def rho(A):\n",
    "    return np.max(np.abs(np.linalg.eigvals(A)))\n",
    "    \n",
    "def Tj(A, n):\n",
    "    [L, D, U] = getLDU(A, n)\n",
    "    return np.linalg.inv(D) @ (L + U)\n",
    "\n",
    "def TGS(A, n):\n",
    "    [L, D, U] = getLDU(A, n)\n",
    "    return np.linalg.inv(D - L) @ U\n",
    "\n",
    "A = np.array([[1,2,-2],[1,1,1],[2,2,1]])\n",
    "B = np.array([[2,-1,1],[1,1,1],[1,1,-2]])\n",
    "\n",
    "print(\"rho(Tj(A)) = \", rho(Tj(A, 3)), \", rho(TGS(A)) = \", rho(TGS(A, 3)))\n",
    "print(\"rho(Tj(B)) = \", rho(Tj(B, 3)), \", rho(TGS(B)) = \", rho(TGS(B, 3)))\n",
    "\n",
    "C = np.array([[3,1,3],[1,3,2],[-3,2,3]])\n",
    "print(\"rho(Tj(A)) = \", rho(Tj(C, 3)), \", rho(TGS(A)) = \", rho(TGS(C, 3)))\n",
    "\n"
   ]
  }
 ],
 "metadata": {
  "kernelspec": {
   "display_name": "Python 3",
   "language": "python",
   "name": "python3"
  },
  "language_info": {
   "codemirror_mode": {
    "name": "ipython",
    "version": 3
   },
   "file_extension": ".py",
   "mimetype": "text/x-python",
   "name": "python",
   "nbconvert_exporter": "python",
   "pygments_lexer": "ipython3",
   "version": "3.11.6"
  }
 },
 "nbformat": 4,
 "nbformat_minor": 2
}
