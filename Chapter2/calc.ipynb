{
 "cells": [
  {
   "cell_type": "code",
   "execution_count": 4,
   "metadata": {},
   "outputs": [
    {
     "name": "stdout",
     "output_type": "stream",
     "text": [
      "Results: A1 = 0.7131482910221459, A2 = 1.005133537436899, x1 = 0.24760397941963827, x2 = 0.8192161683583419\n"
     ]
    }
   ],
   "source": [
    "from scipy.optimize import fsolve\n",
    "import numpy as np\n",
    "\n",
    "def equations(vars):\n",
    "    A1, A2, x1, x2 = vars\n",
    "    \n",
    "    e_minus_1 = np.exp(1) - 1\n",
    "    integral_x_ex = 1\n",
    "    integral_x2_ex = np.exp(1) - 2\n",
    "    integral_x3_ex = 6 - 2 * np.exp(1)\n",
    "    \n",
    "    eq1 = A1 + A2 - e_minus_1\n",
    "    eq2 = A1 * x1 + A2 * x2 - integral_x_ex\n",
    "    eq3 = A1 * x1**2 + A2 * x2**2 - integral_x2_ex\n",
    "    eq4 = A1 * x1**3 + A2 * x2**3 - integral_x3_ex\n",
    "    \n",
    "    return np.array([eq1, eq2, eq3, eq4])\n",
    "\n",
    "initial_guesses = [0.5, 0.5, 0.25, 0.75]\n",
    "\n",
    "result = fsolve(equations, initial_guesses)\n",
    "print(f\"Results: A1 = {result[0]}, A2 = {result[1]}, x1 = {result[2]}, x2 = {result[3]}\")\n"
   ]
  }
 ],
 "metadata": {
  "kernelspec": {
   "display_name": "Python 3",
   "language": "python",
   "name": "python3"
  },
  "language_info": {
   "codemirror_mode": {
    "name": "ipython",
    "version": 3
   },
   "file_extension": ".py",
   "mimetype": "text/x-python",
   "name": "python",
   "nbconvert_exporter": "python",
   "pygments_lexer": "ipython3",
   "version": "3.11.6"
  }
 },
 "nbformat": 4,
 "nbformat_minor": 2
}
