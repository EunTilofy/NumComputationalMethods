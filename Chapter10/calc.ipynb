{
 "cells": [
  {
   "cell_type": "code",
   "execution_count": 3,
   "metadata": {},
   "outputs": [
    {
     "name": "stdout",
     "output_type": "stream",
     "text": [
      "1.5 1.4812480342036851\n",
      "1.4727057296393942\n",
      "1.4688173136644993\n",
      "1.4670479732005974\n",
      "1.466243010114747\n",
      "1.4658768201688133\n",
      "1.465710240775865\n",
      "1.4656344652385098\n",
      "1.4655999958533155\n",
      "1.4655999958533155 9\n"
     ]
    }
   ],
   "source": [
    "x = 1.5\n",
    "x1 = (1+x**2)**(1/3)\n",
    "n = 1\n",
    "print(x, x1)\n",
    "\n",
    "while abs(x - x1) > 5e-5:\n",
    "    _ = x1\n",
    "    x1 = (1+x1**2)**(1/3)\n",
    "    x = _\n",
    "    n = n + 1\n",
    "    print(x1)\n",
    "\n",
    "print(x1, n)"
   ]
  },
  {
   "cell_type": "code",
   "execution_count": 4,
   "metadata": {},
   "outputs": [
    {
     "name": "stdout",
     "output_type": "stream",
     "text": [
      "2 1.912931182772389\n",
      "1.8888351255648717\n",
      "1.8820568796721728\n",
      "1.8801413277466212\n",
      "1.8795992792410985\n",
      "1.8794458376596312\n",
      "1.8794023972937213\n",
      "1.8794023972937213 7\n"
     ]
    }
   ],
   "source": [
    "x = 2\n",
    "x1 = (1+3*x)**(1/3)\n",
    "n = 1\n",
    "print(x, x1)\n",
    "\n",
    "while abs(x - x1) > 5e-5:\n",
    "    _ = x1\n",
    "    x1 = (1+3*x1)**(1/3)\n",
    "    x = _\n",
    "    n = n + 1\n",
    "    print(x1)\n",
    "\n",
    "print(x1, n)"
   ]
  },
  {
   "cell_type": "code",
   "execution_count": 5,
   "metadata": {},
   "outputs": [
    {
     "name": "stdout",
     "output_type": "stream",
     "text": [
      "2 1.8794023972937213\n",
      "1.879385241790264\n",
      "1.879385241790264 2\n"
     ]
    }
   ],
   "source": [
    "x = 2\n",
    "x_1 = x - (x**3-3*x-1)/(3*x**2 - 3)\n",
    "n = 1\n",
    "print(x, x1)\n",
    "while abs(x - x1) > 5e-5:\n",
    "    _ = x1\n",
    "    x1 = x1 - (x1**3-3*x1-1)/(3*x1**2 - 3)\n",
    "    x = _\n",
    "    n = n + 1\n",
    "    print(x1)\n",
    "print(x1, n)"
   ]
  },
  {
   "cell_type": "code",
   "execution_count": 7,
   "metadata": {},
   "outputs": [
    {
     "name": "stdout",
     "output_type": "stream",
     "text": [
      "2 1.5\n",
      "1.84\n",
      "1.8938394247164356\n",
      "1.8789567111871652\n",
      "1.8793806803430995\n",
      "1.8793852430229476\n",
      "1.8793852430229476 6\n"
     ]
    }
   ],
   "source": [
    "x0 = 2\n",
    "x1 = 1.5\n",
    "n = 1\n",
    "print(x0, x1)\n",
    "while abs(x0 - x1) > 5e-5:\n",
    "    _ = x1\n",
    "    x1 = x1 - (x1**3-3*x1-1)/(x1**2+x0*x1+x0**2-3)\n",
    "    x0 = _\n",
    "    n = n + 1\n",
    "    print(x1)\n",
    "print(x1, n)"
   ]
  },
  {
   "cell_type": "code",
   "execution_count": 6,
   "metadata": {},
   "outputs": [
    {
     "name": "stdout",
     "output_type": "stream",
     "text": [
      "1 0.8270491803278689 0.5639344262295083\n",
      "2 0.8260323731676462 0.5636236767037873\n",
      "3 0.8260313576552345 0.5636241621608473\n"
     ]
    }
   ],
   "source": [
    "import numpy as np\n",
    "def J(x, y):\n",
    "    return [[2*x, 2*y], [3*x**2, -1]]\n",
    "def f1(x, y):\n",
    "    return x**2+y**2-1\n",
    "def f2(x, y):\n",
    "    return x**3-y\n",
    "def Newton(x0, y0):\n",
    "    for i in range(3):\n",
    "        F1 = -f1(x0, y0)\n",
    "        F2 = -f2(x0, y0)\n",
    "        J0 = J(x0, y0)\n",
    "        [dx, dy] = np.linalg.solve(np.array(J0), np.array([F1, F2]))\n",
    "        x0 = x0 + dx \n",
    "        y0 = y0 + dy\n",
    "        print(i+1, x0, y0)\n",
    "Newton(0.8, 0.6)"
   ]
  },
  {
   "cell_type": "code",
   "execution_count": 9,
   "metadata": {},
   "outputs": [
    {
     "name": "stdout",
     "output_type": "stream",
     "text": [
      "|   x |   Euler Method y |   Improved Euler Method y |   Theoretical y |   Euler Method Error |   Improved Euler Method Error |\n",
      "|----:|-----------------:|--------------------------:|----------------:|---------------------:|------------------------------:|\n",
      "| 0   |          1       |                   1       |         1       |           0          |                   0           |\n",
      "| 0.1 |          1.1     |                   1.09591 |         1.09545 |           0.00455488 |                   0.000463976 |\n",
      "| 0.2 |          1.19182 |                   1.1841  |         1.18322 |           0.00860223 |                   0.000880613 |\n",
      "| 0.3 |          1.27744 |                   1.2662  |         1.26491 |           0.0125268  |                   0.0012903   |\n",
      "| 0.4 |          1.35821 |                   1.34336 |         1.34164 |           0.0165718  |                   0.00171936  |\n",
      "| 0.5 |          1.43513 |                   1.4164  |         1.41421 |           0.0209194  |                   0.00218837  |\n",
      "| 0.6 |          1.50897 |                   1.48596 |         1.48324 |           0.0257266  |                   0.0027159   |\n",
      "| 0.7 |          1.58034 |                   1.55251 |         1.54919 |           0.0311449  |                   0.00332075  |\n",
      "| 0.8 |          1.64978 |                   1.61647 |         1.61245 |           0.0373319  |                   0.00402323  |\n",
      "| 0.9 |          1.71778 |                   1.67817 |         1.67332 |           0.0444593  |                   0.00484631  |\n",
      "| 1   |          1.78477 |                   1.73787 |         1.73205 |           0.05272    |                   0.00581659  |\n"
     ]
    }
   ],
   "source": [
    "import numpy as np\n",
    "import pandas as pd\n",
    "\n",
    "def f(x, y):\n",
    "    return y - (2 * x) / y\n",
    "\n",
    "def euler_method(f, x0, y0, h, n):\n",
    "    x = [x0]\n",
    "    y = [y0]\n",
    "    for i in range(n):\n",
    "        y_next = y[-1] + h * f(x[-1], y[-1])\n",
    "        x_next = x[-1] + h\n",
    "        x.append(x_next)\n",
    "        y.append(y_next)\n",
    "    return x, y\n",
    "\n",
    "def improved_euler_method(f, x0, y0, h, n):\n",
    "    x = [x0]\n",
    "    y = [y0]\n",
    "    for i in range(n):\n",
    "        y_temp = y[-1] + h * f(x[-1], y[-1])\n",
    "        x_next = x[-1] + h\n",
    "        y_next = y[-1] + h / 2 * (f(x[-1], y[-1]) + f(x_next, y_temp))\n",
    "        x.append(x_next)\n",
    "        y.append(y_next)\n",
    "    return x, y\n",
    "\n",
    "def theoretical_solution(x):\n",
    "    return np.sqrt(1 + 2 * x)\n",
    "\n",
    "x0 = 0\n",
    "y0 = 1\n",
    "h = 0.1\n",
    "n = 10\n",
    "\n",
    "x_euler, y_euler = euler_method(f, x0, y0, h, n)\n",
    "x_improved_euler, y_improved_euler = improved_euler_method(f, x0, y0, h, n)\n",
    "y_theoretical = theoretical_solution(np.array(x_euler))\n",
    "\n",
    "error_euler = np.abs(y_theoretical - np.array(y_euler))\n",
    "error_improved_euler = np.abs(y_theoretical - np.array(y_improved_euler))\n",
    "\n",
    "data = {\n",
    "    '$x$': x_euler,\n",
    "    'Euler $y_1$': y_euler,\n",
    "    'Improved Euler $y_2$': y_improved_euler,\n",
    "    'Theoretical $y^*$': y_theoretical,\n",
    "    'Euler Error $abs(y_1-y^*)$': error_euler,\n",
    "    'Improved Euler Error $abs(y_2-y^*)$': error_improved_euler\n",
    "}\n",
    "\n",
    "df = pd.DataFrame(data)\n",
    "markdown_table = df.to_markdown(index=False)\n",
    "print(markdown_table)\n"
   ]
  },
  {
   "cell_type": "code",
   "execution_count": 10,
   "metadata": {},
   "outputs": [
    {
     "name": "stdout",
     "output_type": "stream",
     "text": [
      "|   x |   R-K $y$ |   Theoretical $y^*$ |   R-K Error $abs(y-y^*)$ |\n",
      "|----:|----------:|--------------------:|-------------------------:|\n",
      "| 0   |   1       |             1       |              0           |\n",
      "| 0.2 |   1.18323 |             1.18322 |              1.33308e-05 |\n",
      "| 0.4 |   1.34167 |             1.34164 |              2.61434e-05 |\n",
      "| 0.6 |   1.48328 |             1.48324 |              4.17609e-05 |\n",
      "| 0.8 |   1.61251 |             1.61245 |              6.2492e-05  |\n",
      "| 1   |   1.73214 |             1.73205 |              9.10751e-05 |\n"
     ]
    }
   ],
   "source": [
    "def f(x, y):\n",
    "    return y - (2 * x) / y\n",
    "def rk4_method(f, x0, y0, h, n):\n",
    "    x = [x0]\n",
    "    y = [y0]\n",
    "    for i in range(n):\n",
    "        K1 = h * f(x[-1], y[-1])\n",
    "        K2 = h * f(x[-1] + h / 2, y[-1] + K1 / 2)\n",
    "        K3 = h * f(x[-1] + h / 2, y[-1] + K2 / 2)\n",
    "        K4 = h * f(x[-1] + h, y[-1] + K3)\n",
    "        y_next = y[-1] + 1 / 6 * (K1 + 2 * K2 + 2 * K3 + K4)\n",
    "        x_next = x[-1] + h\n",
    "        x.append(x_next)\n",
    "        y.append(y_next)\n",
    "    return x, y\n",
    "def theoretical_solution(x):\n",
    "    return np.sqrt(1 + 2 * x)\n",
    "x0 = 0\n",
    "y0 = 1\n",
    "h = 0.2\n",
    "n = 5\n",
    "x_rk4, y_rk4 = rk4_method(f, x0, y0, h, n)\n",
    "y_theoretical = theoretical_solution(np.array(x_rk4))\n",
    "error_rk4 = np.abs(y_theoretical - np.array(y_rk4))\n",
    "data = {\n",
    "    'x': x_rk4,\n",
    "    'R-K $y$': y_rk4,\n",
    "    'Theoretical $y^*$': y_theoretical,\n",
    "    'R-K Error $abs(y-y^*)$': error_rk4\n",
    "}\n",
    "df = pd.DataFrame(data)\n",
    "markdown_table = df.to_markdown(index=False)\n",
    "print(markdown_table)\n"
   ]
  }
 ],
 "metadata": {
  "kernelspec": {
   "display_name": "Python 3",
   "language": "python",
   "name": "python3"
  },
  "language_info": {
   "codemirror_mode": {
    "name": "ipython",
    "version": 3
   },
   "file_extension": ".py",
   "mimetype": "text/x-python",
   "name": "python",
   "nbconvert_exporter": "python",
   "pygments_lexer": "ipython3",
   "version": "3.11.6"
  }
 },
 "nbformat": 4,
 "nbformat_minor": 2
}
